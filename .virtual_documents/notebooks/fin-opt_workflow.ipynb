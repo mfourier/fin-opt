





# --- Path setup: add project root so "src" is importable ---
import os
import sys

PROJECT_ROOT = os.path.abspath(os.path.join(os.getcwd(), ".."))
if PROJECT_ROOT not in sys.path:
    sys.path.insert(0, PROJECT_ROOT)

from datetime import date

import matplotlib.pyplot as plt

# --- Standard libs ---
import numpy as np
import pandas as pd

# --- FinOpt modules (desde /src) ---
from src.income import FixedIncome, IncomeModel, VariableIncome
from src.portfolio import Account, Portfolio
from src.returns import ReturnModel
from src.utils import monthly_to_annual
from src.model import FinancialModel, SimulationResult
from src.optimization import SAAOptimizer
from src.goals import IntermediateGoal, TerminalGoal





# --- Seasonality pattern for variable income (12 months, Jan–Dec) ---

# Structure: months = ["Jan", "Feb", "Mar", "Apr", "May", "Jun",
#                      "Jul", "Aug", "Sep", "Oct", "Nov", "Dec"]

seasonality_variable = [0.00, 0.00, 0.00, 1.22, 1.22, 1.16,
                        1.24, 1.10, 0.50, 0.90, 1.00, 1.31]

monthly_contrib_fixed = [0.20, 0.20, 0.20, 0.22, 0.25, 0.25,
                         0.23, 0.23, 0.20, 0.20, 0.20, 0.10]

monthly_contrib_variable = [1.0] * 12

monthly_contribution ={"fixed": monthly_contrib_fixed, "variable": monthly_contrib_variable}





# IncomeModel Instantiation
income = IncomeModel(
    fixed=FixedIncome(
        base=1_480_000.0,       # CLP/month
        annual_growth=0.03,     # 3% nominal annual growth
        salary_raises={
            date(2026, 4, 1): 400_000,  # +400k in April 2026
            date(2027, 4, 1): 400_000   # +400k in April 2027
        },
        name="fixed"
    ),
    variable=VariableIncome(
        base=140_000.0,         # Base variable income
        seasonality=seasonality_variable,
        sigma=0.10,             # 10% monthly noise
        floor=0.0,              # No negative income
        cap=400_000.0,          # Maximum 400k/month
        annual_growth=0.0,      # No growth in variable
        name="variable"
    ),
    monthly_contribution = monthly_contribution
)

# --- Account configuration ---
accounts = [
    Account.from_annual(
        name="Cuenta Ahorro Vivienda (BE)",
        annual_return=0.025,
        annual_volatility=0.01,
        initial_wealth=0
    ),
    Account.from_annual(
        name="Conservative Clooney (Fintual)",
        annual_return=0.08,
        annual_volatility=0.09,
        initial_wealth=0
    ),
    Account.from_annual(
        name="Moderate Pitt (Fintual)",
        annual_return=0.12,
        annual_volatility=0.13,
        initial_wealth=0
    )
]

# --- Correlation matrix (2x2) ---
# UF portfolio have moderate positive correlation (ρ = 0.2)
correlation_matrix = np.array([
    [1.0, 0.0, 0.0],
    [0.0, 1.0, 0.5],
    [0.0, 0.5, 1.0]
])

# --- Initialize FinancialModel ---
model = FinancialModel(income, accounts, default_correlation = correlation_matrix)
model





# --- Simulation parameters ---
n_sims = 500
months = 48  
start_date = date(2025, 10, 1)








# Income Projection Simulation
model.plot(mode='income', T=months, start=start_date)





# Contribution Projection Simulation
model.plot(mode='contributions', T=months, start=start_date)








model.plot(mode = 'returns', T = months, start=start_date)





model.plot(mode = 'returns_cumulative', T = months, start=start_date)


model.plot(mode = 'returns_cumulative', T = months, start=start_date, n_sims=1, title= r'Random Example of Cumulative Returns per Account $(\prod_{t=0}^{T-1}(1 + R_t^m) - 1)')





# --- Horizon analysis (average portfolio behavior) ---
mode = 'returns_horizon'
model.plot(mode = 'returns_horizon', show_table=False)





# Define Allocation Policy

# --- Static allocation: 60% Emergency, 40% Growth ---
X_static = np.tile([0.33, 0.33, 0.34], (months, 1))  # shape (months, 2)

# Project monthly Wealth
model.plot(mode = 'wealth', start=start_date, T=months, X=X_static)














goals = [
    # Intermediate goal: Emergency fund at month 12
    # ℙ(W₁₂^Emergency ≥ 5.5M) ≥ 0.90  (ε = 10% violation tolerance)
    TerminalGoal(
        account="Cuenta Ahorro Vivienda (BE)",
        threshold=5_500_000,
        confidence=0.90,
    ),
    TerminalGoal(
        account="Conservative Clooney (Fintual)",
        threshold=5_500_000,
        confidence=0.90,
    ),
    TerminalGoal(
        account="Moderate Pitt (Fintual)",
        threshold=5_500_000,
        confidence=0.90,
    ),
]
print("Goal Configuration:")
print("=" * 70)
for g in goals:
    print(g)
print("=" * 70)





# --- SAA Optimizer with sigmoid smoothing ---

optimizer = SAAOptimizer(
    n_accounts=model.M,              # M = 2 (Emergency, Growth)
    tau=0.1,                         # Sigmoid temperature (balanced)
    objective="terminal_wealth",     # Maximize E[∑_m W_T^m]
    account_names=[acc.name for acc in accounts]
)

print(f"\nOptimizer: {optimizer}")
print(f"  - Smoothing: sigmoid with τ={optimizer.tau}")
print(f"  - Objective: {optimizer.objective}")
print(f"  - Solver: SLSQP (scipy.optimize.minimize)")
print(f"  - Gradient: Analytical (affine wealth)")





# --- Execute bilevel search: minimize T subject to goal feasibility ---

print("\n" + "="*70)
print("EXECUTING BILEVEL OPTIMIZATION")
print("="*70)

opt_result = model.optimize(
    goals=goals,
    optimizer=optimizer,
    T_max=120,              # Maximum horizon: 10 years
    n_sims=500,             # SAA scenarios
    seed=42,                # Reproducibility
    start=start_date,       # Calendar alignment
    verbose=True,           # Print iteration logs
    maxiter=1000,           # SLSQP max iterations
    ftol=1e-9,              # Function tolerance
    gtol=1e-5               # Gradient tolerance
)

print("\n" + "="*70)
print("OPTIMIZATION RESULT")
print("="*70)
print(opt_result.summary())





# --- Analyze optimal solution ---

print("\n" + "="*70)
print("OPTIMAL ALLOCATION POLICY (X*)")
print("="*70)

# Extract optimal policy
X_opt = opt_result.X  # shape: (T*, M)
T_opt = opt_result.T

# Summary statistics
print(f"Horizon: T* = {T_opt} months ({T_opt/12:.1f} years)")
print(f"Objective Value: {opt_result.objective_value:,.0f} CLP")
print(f"Feasible: {opt_result.feasible}")
print(f"Solve Time: {opt_result.solve_time:.2f} seconds")
print(f"Iterations: {opt_result.n_iterations}")
print(f"\nConvergence Status: {opt_result.diagnostics['convergence_status']}")

# Allocation statistics over time
print("\n" + "-"*70)
print("ALLOCATION STATISTICS")
print("-"*70)
for m, acc_name in enumerate([acc.name for acc in accounts]):
    mean_alloc = X_opt[:, m].mean()
    std_alloc = X_opt[:, m].std()
    min_alloc = X_opt[:, m].min()
    max_alloc = X_opt[:, m].max()
    print(f"{acc_name:15s}: μ={mean_alloc:.2%}  σ={std_alloc:.4f}  "
          f"[{min_alloc:.2%}, {max_alloc:.2%}]")

# Check if policy is time-varying
is_static = np.allclose(X_opt, X_opt[0], atol=1e-4)
print(f"\nPolicy Type: {'Static' if is_static else 'Time-varying'}")





# --- Validate with fresh scenarios (out-of-sample test) ---

print("\n" + "="*70)
print("OUT-OF-SAMPLE VALIDATION")
print("="*70)

# Simulate with X* using fresh scenarios (higher fidelity)
sim_result_opt = model.simulate_from_optimization(
    opt_result,
    n_sims=1000,     # Higher n_sims than optimization
    seed=999,        # Independent seed
    start=start_date
)

# Verify goal satisfaction empirically
status = model.verify_goals(sim_result_opt, goals, start=start_date)

print("\nGoal Verification Results:")
print("-"*70)
for goal, metrics in status.items():
    print(f"\n{goal.name}:")
    print(f"  Satisfied:       {metrics['satisfied']}")
    print(f"  Violation Rate:  {metrics['violation_rate']:.2%} "
          f"(required: ≤ {metrics['required_rate']:.2%})")
    print(f"  Margin:          {metrics['margin']:.4f}")
    print(f"  N Violations:    {metrics['n_violations']} / {sim_result_opt.n_sims}")
    
    if not metrics['satisfied']:
        print(f"  ⚠ VIOLATED - Median Shortfall: "
              f"${metrics['median_shortfall']:,.0f}")





# --- Compare optimal policy against static 60-40 baseline ---

print("\n" + "="*70)
print("STRATEGY COMPARISON: OPTIMAL vs STATIC")
print("="*70)

# Static baseline (reuse from previous section)
X_static_comp = np.tile([0.6, 0.4], (T_opt, 1))  # Match optimal horizon

sim_result_static = model.simulate(
    T=T_opt,
    X=X_static_comp,
    n_sims=1000,
    seed=999,
    start=start_date
)

# Compare final wealth distributions
wealth_opt = sim_result_opt.total_wealth[:, -1]
wealth_static = sim_result_static.total_wealth[:, -1]

print(f"\nFinal Wealth Statistics (T={T_opt} months):")
print("-"*70)
print(f"{'Strategy':<15} {'Mean':>12} {'Std':>12} {'P5':>12} {'P95':>12}")
print("-"*70)
print(f"{'Optimal':<15} {wealth_opt.mean():>12,.0f} {wealth_opt.std():>12,.0f} "
      f"{np.percentile(wealth_opt, 5):>12,.0f} {np.percentile(wealth_opt, 95):>12,.0f}")
print(f"{'Static 60-40':<15} {wealth_static.mean():>12,.0f} {wealth_static.std():>12,.0f} "
      f"{np.percentile(wealth_static, 5):>12,.0f} {np.percentile(wealth_static, 95):>12,.0f}")

# Verify goals for static policy
status_static = model.verify_goals(sim_result_static, goals, start=start_date)

print("\n" + "-"*70)
print("Goal Satisfaction Comparison:")
print("-"*70)
for goal in goals:
    opt_satisfied = status[goal]['satisfied']
    static_satisfied = status_static[goal]['satisfied']
    opt_vr = status[goal]['violation_rate']
    static_vr = status_static[goal]['violation_rate']
    
    print(f"\n{goal.name}:")
    print(f"  Optimal:      {opt_satisfied} (VR: {opt_vr:.2%})")
    print(f"  Static 60-40: {static_satisfied} (VR: {static_vr:.2%})")





# --- Visualize optimal wealth trajectories ---

model.plot(
    mode='wealth',
    result=sim_result_opt,
    title=f"Optimal Allocation Policy (T*={T_opt} months, τ={optimizer.tau})",
    figsize=(16, 10),
    show_trajectories=True,
    trajectory_alpha=0.05
)

# --- Visualize strategy comparison ---

model.plot(
    mode='comparison',
    results={
        'Optimal (X*)': sim_result_opt,
        'Static 60-40': sim_result_static
    },
    figsize=(14, 6),
    title=f"Strategy Comparison: Horizon T={T_opt} months"
)
