





# --- Path setup: add project root so "src" is importable ---
import os
import sys

PROJECT_ROOT = os.path.abspath(os.path.join(os.getcwd(), ".."))
if PROJECT_ROOT not in sys.path:
    sys.path.insert(0, PROJECT_ROOT)

from datetime import date

import matplotlib.pyplot as plt

# --- Standard libs ---
import numpy as np
import pandas as pd

# --- FinOpt modules (desde /src) ---
from src.income import FixedIncome, IncomeModel, VariableIncome
from src.portfolio import Account, Portfolio
from src.returns import ReturnModel
from src.utils import monthly_to_annual
from src.model import FinancialModel, SimulationResult
from src.optimization import CVaROptimizer
from src.goals import IntermediateGoal, TerminalGoal





# --- Seasonality pattern for variable income (12 months, Jan–Dec) ---

# Structure: months = ["Jan", "Feb", "Mar", "Apr", "May", "Jun",
#                      "Jul", "Aug", "Sep", "Oct", "Nov", "Dec"]

seasonality_variable = [0.00, 0.00, 0.00, 1.22, 1.22, 1.16,
                        1.24, 1.10, 0.50, 0.90, 1.00, 1.31]

monthly_contrib_fixed = [0.20, 0.20, 0.20, 0.22, 0.25, 0.25,
                         0.23, 0.23, 0.20, 0.20, 0.20, 0.10]

monthly_contrib_variable = [1.0] * 12

monthly_contribution ={"fixed": monthly_contrib_fixed, "variable": monthly_contrib_variable}





# IncomeModel Instantiation
income = IncomeModel(
    fixed=FixedIncome(
        base=1_480_000.0,       # CLP/month
        annual_growth=0.03,     # 3% nominal annual growth
        salary_raises={
            date(2026, 4, 1): 400_000,  # +400k in April 2026
            date(2027, 4, 1): 400_000   # +400k in April 2027
        },
        name="fixed"
    ),
    variable=VariableIncome(
        base=140_000.0,         # Base variable income
        seasonality=seasonality_variable,
        sigma=0.10,             # 10% monthly noise
        floor=0.0,              # No negative income
        cap=400_000.0,          # Maximum 400k/month
        annual_growth=0.0,      # No growth in variable
        name="variable"
    ),
    monthly_contribution = monthly_contribution
)

# --- Account configuration ---
accounts = [
    Account.from_annual(
        name="Cuenta Ahorro Vivienda (BE)",
        annual_return=0.025,
        annual_volatility=0.01,
        initial_wealth=0
    ),
    Account.from_annual(
        name="Conservative Clooney (Fintual)",
        annual_return=0.08,
        annual_volatility=0.09,
        initial_wealth=0
    ),
    Account.from_annual(
        name="Moderate Pitt (Fintual)",
        annual_return=0.12,
        annual_volatility=0.13,
        initial_wealth=0
    )
]

# --- Correlation matrix (2x2) ---
# UF portfolio have moderate positive correlation (rho = 0.2)
correlation_matrix = np.array([
    [1.0, 0.0, 0.0],
    [0.0, 1.0, 0.5],
    [0.0, 0.5, 1.0]
])

# --- Initialize FinancialModel ---
model = FinancialModel(income, accounts, default_correlation = correlation_matrix)
model





# --- Simulation parameters ---
n_sims = 500
months = 48  
start_date = date(2025, 10, 1)








# Income Projection Simulation
model.plot(mode='income', T=months, start=start_date)





# Contribution Projection Simulation
model.plot(mode='contributions', T=months, start=start_date)








model.plot(mode = 'returns', T = months, start=start_date)





model.plot(mode = 'returns_cumulative', T = months, start=start_date)


model.plot(mode = 'returns_cumulative', T = months, start=start_date, n_sims=1, title= r'Random Example of Cumulative Returns per Account $(\prod_{t=0}^{T-1}(1 + R_t^m) - 1)')





# --- Horizon analysis (average portfolio behavior) ---
mode = 'returns_horizon'
model.plot(mode = 'returns_horizon', show_table=False)





# Define Allocation Policy

X_static = np.tile([0.33, 0.33, 0.34], (months, 1))  # shape (months, 2)

# Project monthly Wealth
model.plot(mode = 'wealth', start=start_date, T=months, X=X_static)














# --- Define Financial Goals ---

# Goal 1: Emergency Fund
goal_emergency = TerminalGoal(
    account="Cuenta Ahorro Vivienda (BE)",
    threshold=6_000_000,
    confidence=0.70
)

# Goal 2: Down Payment 
goal_downpayment = TerminalGoal(
    account="Conservative Clooney (Fintual)",
    threshold=5_000_000,
    confidence=0.75
)

# Goal 3: Home Purchase (Terminal)
goal_home = TerminalGoal(
    account="Moderate Pitt (Fintual)",
    threshold=15_000_000,
    confidence=0.70
)

# Goal 4: Emergency Fund
goal_emergency_intermediate = IntermediateGoal(
    account="Cuenta Ahorro Vivienda (BE)",
    threshold=2_200_000,
    confidence=0.80,
    month=24
)

goals = [goal_emergency, goal_downpayment, goal_home, goal_emergency_intermediate]

# Display goal summary
print("=" * 70)
print("FINANCIAL GOALS SUMMARY")
print("=" * 70)
for i, g in enumerate(goals, 1):
    if isinstance(g, IntermediateGoal):
        print(f"\n{i}.")
        print(f"   Type: Intermediate (month {g.month})")
        print(f"   Account: {g.account}")
        print(f"   Threshold: ${g.threshold:,.0f}")
        print(f"   Confidence: {g.confidence:.0%} (ε={g.epsilon:.0%})")
    else:
        print(f"\n{i}.")
        print(f"   Type: Terminal (horizon T to be optimized)")
        print(f"   Account: {g.account}")
        print(f"   Threshold: ${g.threshold:,.0f}")
        print(f"   Confidence: {g.confidence:.0%} (ε={g.epsilon:.0%})")
print("=" * 70)








# --- Execute Optimization ---

print("\n" + "=" * 70)
print("STARTING BILEVEL OPTIMIZATION")

optimizer = CVaROptimizer(n_accounts=model.M, objective='risk_adjusted')
opt_result = model.optimize(
    goals=goals,
    optimizer=optimizer,
    T_max=120,
    n_sims=300,
    seed=42,
    verbose=True,
    solver='ECOS',  # O 'SCS', 'CLARABEL'
    max_iters=10000
)

print(opt_result.summary())

# Display optimization summary
print("\n" + "=" * 70)
print(opt_result.summary())
print("=" * 70)


optimizer.objective





# --- Visualize Optimal Allocation Policy X* ---

fig, axes = plt.subplots(3, 1, figsize=(16, 10))

# Panel 1: Allocation heatmap
im = axes[0].imshow(
    opt_result.X.T, 
    aspect='auto', 
    cmap='RdYlGn',
    vmin=0, 
    vmax=1,
    interpolation='nearest'
)
axes[0].set_xlabel("Month", fontsize=11)
axes[0].set_ylabel("Account", fontsize=11)
axes[0].set_title("Optimal Allocation Policy X* (Heatmap)", 
                      fontsize=12, fontweight='bold')
axes[0].set_yticks(range(model.M))
axes[0].set_yticklabels([acc.name for acc in accounts], fontsize=9)
plt.colorbar(im, ax=axes[0], label="Allocation Fraction")

# Panel 2: Time series per account
for m, acc in enumerate(accounts):
    axes[1].plot(opt_result.X[:, m], label=acc.name, linewidth=2)
axes[1].set_xlabel("Month", fontsize=11)
axes[1].set_ylabel("Allocation Fraction", fontsize=11)
axes[1].set_title("X* Time Series by Account", fontsize=12, fontweight='bold')
axes[1].legend(loc='best', fontsize=9)
axes[1].grid(True, alpha=0.3)
axes[1].set_ylim([0, 1])

# Panel 3: Allocation statistics
alloc_stats = pd.DataFrame({
    'Mean': opt_result.X.mean(axis=0),
    'Std': opt_result.X.std(axis=0),
    'Min': opt_result.X.min(axis=0),
    'Max': opt_result.X.max(axis=0),
}, index=[acc.name for acc in accounts])

alloc_stats.plot(kind='bar', ax=axes[2], rot=45)
axes[2].set_title("Allocation Statistics (X*)", fontsize=12, fontweight='bold')
axes[2].set_ylabel("Fraction", fontsize=11)
axes[2].legend(loc='best', fontsize=9)
axes[2].grid(True, alpha=0.3, axis='y')


fig.suptitle("Optimal Allocation Policy Analysis", fontsize=14, fontweight='bold')
plt.tight_layout()
plt.show()

# Print allocation summary
print("\n" + "=" * 70)
print("OPTIMAL ALLOCATION SUMMARY")
print("=" * 70)
print(alloc_stats.round(3))
print("=" * 70)


# --- Simulate wealth under X* ---

# Generate fresh scenarios for validation (out-of-sample)
opt_sim = model.simulate_from_optimization(
    opt_result,
    n_sims=500,
    seed=999  # Different seed from optimization
)

# Plot wealth dynamics
model.plot(
    mode='wealth',
    result=opt_sim,
    X=opt_result.X,
    title=f"Wealth Dynamics under Optimal Policy (T*={opt_result.T})",
    show_trajectories=True
)








print("=" * 70)
print("GOAL VERIFICATION: IN-SAMPLE")
print("=" * 70)
print("Using optimization scenarios (n=300, seed=42)")
print("Expected: All goals satisfied (✓)\n")

# Simulate with optimization parameters
insample_sim = model.simulate(
    T=opt_result.T,
    X=opt_result.X,
    n_sims=300,
    seed=42,  # Same seed as optimization
    start=start_date
)

insample_status = model.verify_goals(insample_sim, goals, start=start_date)

# Display results
for goal, metrics in insample_status.items():
    print(f"  Account: {goal.account}")
    if isinstance(goal, IntermediateGoal):
        print(f"  Month: {goal.month}")
    print(f"  Threshold: ${goal.threshold:,.0f}")
    print(f"  Confidence: {goal.confidence:.0%}")
    print(f"  ---")
    status_symbol = "✓" if metrics['satisfied'] else "✗"
    print(f"  Status: {status_symbol} {'SATISFIED' if metrics['satisfied'] else 'VIOLATED'}")
    print(f"  Violation rate: {metrics['violation_rate']:.2%} (required ≤ {metrics['required_rate']:.2%})")
    print(f"  Margin: {metrics['margin']:.2%}")
    print(f"  Median shortfall: ${metrics['median_shortfall']:,.0f}")
    print(f"  N violations: {metrics['n_violations']} / {insample_sim.n_sims}")

print("\n" + "=" * 70)





print("\n" + "=" * 70)
print("GOAL VERIFICATION: OUT-OF-SAMPLE")
print("=" * 70)
print("Using fresh scenarios (n=1000, seed=999)")
print("Expected: All goals satisfied with safety margin\n")

# Generate independent scenarios
outsample_sim = model.simulate_from_optimization(
    opt_result,
    n_sims=1000,
    seed=999  # Independent seed
)

outsample_status = model.verify_goals(outsample_sim, goals, start=start_date)

# Display results
for goal, metrics in outsample_status.items():
    print(f"  Account: {goal.account}")
    if isinstance(goal, IntermediateGoal):
        print(f"  Month: {goal.month}")
    print(f"  Threshold: ${goal.threshold:,.0f}")
    print(f"  Confidence: {goal.confidence:.0%}")
    print(f"  ---")
    status_symbol = "✓" if metrics['satisfied'] else "✗"
    print(f"  Status: {status_symbol} {'SATISFIED' if metrics['satisfied'] else 'VIOLATED'}")
    print(f"  Violation rate: {metrics['violation_rate']:.2%} (required ≤ {metrics['required_rate']:.2%})")
    print(f"  Margin: {metrics['margin']:.2%}")
    print(f"  Median shortfall: ${metrics['median_shortfall']:,.0f}")
    print(f"  N violations: {metrics['n_violations']} / {outsample_sim.n_sims}")

print("\n" + "=" * 70)

# Summary comparison
print("\n" + "=" * 70)
print("IN-SAMPLE vs OUT-OF-SAMPLE COMPARISON")
print("=" * 70)

comparison = pd.DataFrame({
    'In-Sample (n=300)': [
        insample_status[g]['violation_rate'] for g in goals
    ],
    'Out-of-Sample (n=1000)': [
        outsample_status[g]['violation_rate'] for g in goals
    ],
    'Required (ε)': [
        g.epsilon for g in goals
    ]
})

print(comparison.round(4))
print("=" * 70)


get_ipython().getoutput("jupyter nbconvert \")
  --to pdf \
  --TagRemovePreprocessor.enabled=True \
  --TagRemovePreprocessor.remove_input_tags="['hide_input']" \
  FinOpt-Workflow.ipynb


get_ipython().getoutput("jupyter nbconvert \")
  --to html \
  --TagRemovePreprocessor.enabled=True \
  --TagRemovePreprocessor.remove_input_tags="['hide_input']" \
  FinOpt-Workflow.ipynb



