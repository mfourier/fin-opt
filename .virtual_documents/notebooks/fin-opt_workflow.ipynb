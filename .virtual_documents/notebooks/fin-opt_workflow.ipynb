





# --- Path setup: add project root so "src" is importable ---
import os
import sys

PROJECT_ROOT = os.path.abspath(os.path.join(os.getcwd(), ".."))
if PROJECT_ROOT not in sys.path:
    sys.path.insert(0, PROJECT_ROOT)

from datetime import date

import matplotlib.pyplot as plt

# --- Standard libs ---
import numpy as np
import pandas as pd

# --- FinOpt modules (desde /src) ---
from src.income import FixedIncome, IncomeModel, VariableIncome
from src.portfolio import Account, Portfolio
from src.returns import ReturnModel
from src.utils import monthly_to_annual








# --- Seasonality pattern for variable income (12 months, Jan–Dec) ---
seasonality_variable = [
    0.00,  # Jan: off-season
    0.00,  # Feb: off-season
    0.00,  # Mar: off-season
    1.32,  # Apr: peak starts
    1.32,  # May: peak continues
    1.36,  # Jun: peak maximum
    1.24,  # Jul: peak declining
    1.10,  # Aug: transition
    0.50,  # Sep: low activity
    0.90,  # Oct: recovery
    1.00,  # Nov: baseline
    1.31,  # Dec: year-end boost
]

# --- Annual contribution fractions for fixed income (12 months) ---
monthly_contrib_fixed = [
    0.20,  # Jan
    0.20,  # Feb
    0.20,  # Mar
    0.22,  # Apr: slightly higher
    0.25,  # May: peak contribution
    0.25,  # Jun: peak contribution
    0.23,  # Jul
    0.23,  # Aug
    0.20,  # Sep: reduced (holidays)
    0.20,  # Oct
    0.20,  # Nov
    0.10,  # Dec: reduced (Christmas)
]

# Verify lengths
assert len(seasonality_variable) == 12, "Seasonality must have 12 elements"
assert len(monthly_contrib_fixed) == 12, "Contribution fractions must have 12 elements"
print("Configuration validated ✓")





income = IncomeModel(
    fixed=FixedIncome(
        base=1_480_000.0,       # CLP/month
        annual_growth=0.05,     # 5% nominal annual growth
        salary_raises={
            date(2026, 4, 1): 400_000,  # +400k in April 2026
            date(2027, 4, 1): 400_000   # +400k in April 2027
        },
        name="fixed"
    ),
    variable=VariableIncome(
        base=150_000.0,         # Base variable income
        seasonality=seasonality_variable,
        sigma=0.10,             # 10% monthly noise
        floor=0.0,              # No negative income
        cap=400_000.0,          # Maximum 400k/month
        annual_growth=0.0,      # No growth in variable
        seed=42,                # Reproducibility
        name="variable"
    ),
)

# --- Define contribution strategy ---
income.monthly_contribution = {
    "fixed": monthly_contrib_fixed,  # Custom monthly fractions
    "variable": [1.0] * 12,          # 100% of variable income
}

print(f"IncomeModel created: {income.fixed.name} + {income.variable.name}")





# ==============================
# Income Projection Simulation
# ==============================

# --- Simulation parameters ---
months = 32
start_date = date(2025, 9, 1)

# Custom colors
plot_colors = {
    "fixed": "black",
    "variable": "gray",
    "total": "blue"
}

# Generate plot
fig, ax = income.plot(
    mode="income",
    months=months,
    start=start_date,
    dual_axis=True,
    title="Projected Monthly Income (Fixed + Variable)",
    colors=plot_colors,
    show_trajectories=True,
    trajectory_alpha=0.07,
    show_confidence_band=True,
    n_simulations=300,
    confidence=0.95,
    return_fig_ax=True
)

fig.tight_layout()
plt.show()





# ==============================
# Contribution Projection Simulation
# ==============================

# Compute contributions (vectorized)
contributions = income.contributions(months=months, start=start_date, seed=42, output="series")

contrib_colors = {
    "total": "blue",
    "ci": "gray" 
}

# --- Generate and display the contributions plot ---
fig, ax = income.plot(
    mode="contributions",
    months=months,
    start=start_date,
    title="Projected Monthly Contributions",
    colors=contrib_colors,
    show_confidence_band=True,
    return_fig_ax=True
)

# Optional: adjust layout for better spacing
fig.tight_layout()


# Summary for 24 months
summary_24m = income.summary(months=32, start=date(2025, 9, 1))
print("=== Summary (24 months) ===")
print(summary_24m)








# ============================================================================
# Account Configuration & ReturnModel Initialization
# ============================================================================

# --- Account configuration: Conservative vs Aggressive ---
accounts = [
    Account.from_annual(
        name="Emergency",
        annual_return=0.04,        # 4% annual (conservative)
        annual_volatility=0.02,    # 2% volatility
        initial_wealth=0
    ),
    Account.from_annual(
        name="Growth",
        annual_return=0.14,        # 14% annual (aggressive)
        annual_volatility=0.15,    # 15% volatility
        initial_wealth=0
    )
]

# --- Correlation matrix (2x2) ---
# Emergency and Growth have moderate positive correlation (ρ = 0.3)
correlation_matrix = np.array([
    [1.0, 0.3],
    [0.3, 1.0]
])

# --- Initialize ReturnModel ---
returns = ReturnModel(accounts, default_correlation=correlation_matrix)

# --- Introspection using new API ---
print(f"🔍 ReturnModel Summary:")
print(returns)  # Uses __repr__ for human-readable output
print(f"\n📊 Parameter Comparison Table:")
print(returns.params_table())
print(f"\n🔗 Correlation Matrix:")
print(correlation_matrix)

# --- Individual account inspection (optional) ---
print(f"\n📈 Individual Account Details:")
for acc in accounts:
    print(f"\n  {acc}")  # Uses Account.__repr__
    print(f"    Monthly:  μ={acc.monthly_params['mu']:.5f}, σ={acc.monthly_params['sigma']:.5f}")
    print(f"    Annual:   μ={acc.annual_params['return']:.2%}, σ={acc.annual_params['volatility']:.2%}")





# --- Monthly return analysis ---
returns.plot(
    T=months,                         # 10 years for statistical stability
    n_sims=1000,
    show_trajectories=True,
    trajectory_alpha=0.05,
    title="Monthly Return Distributions: Conservative vs Aggressive"
)





# --- Cumulative returns over 2 years ---
returns.plot_cumulative(
    T=months,                          # 24 months (2 years)
    n_sims=500,
    seed=42,
    show_trajectories=True,
    trajectory_alpha=0.08,
    show_percentiles=True,
    percentiles=(5, 95),
    hist_bins=40,
    title="Cumulative Return Evolution: Conservative vs Aggressive"
)





# --- Horizon analysis (average portfolio behavior) ---
returns.plot_horizon_analysis(
    horizons=np.array([1, 2, 3, 5, 10, 20]),
    title="Horizon Analysis: Average Portfolio Behavior (Conservative + Aggressive)",
    show_table=True
)





from scipy.optimize import minimize

# Scenario 1: Uncorrelated (ρ = 0)
R_uncorr = returns.generate(T=24, n_sims=1000, correlation=np.eye(2), seed=42)

# Scenario 2: Moderate correlation (ρ = 0.3, default)
R_moderate = returns.generate(T=24, n_sims=1000, seed=42)

# Scenario 3: High correlation (ρ = 0.7)
high_corr = np.array([[1.0, 0.7], [0.7, 1.0]])
R_high = returns.generate(T=24, n_sims=1000, correlation=high_corr, seed=42)

print("✓ Simulations generated")

# Pesos 50-50 fijos
X = np.array([0.5, 0.5])

results = {}
for label, rho, R_sims in [
    ("Uncorrelated", 0.0, R_uncorr),
    ("Moderate", 0.3, R_moderate),
    ("High", 0.7, R_high)
]:
    # Portfolio returns: R_p = X₁R₁ + X₂R₂
    R_portfolio = (R_sims * X[None, None, :]).sum(axis=2)  # (n_sims, T)
    
    # Cumulative returns
    cum_gross = np.cumprod(1 + R_portfolio, axis=1)
    final_returns = cum_gross[:, -1] - 1
    
    # Metrics
    mean_return = final_returns.mean()
    vol_return = final_returns.std()
    sharpe = mean_return / vol_return if vol_return > 0 else 0
    cvar_95 = np.percentile(final_returns, 5)
    
    results[label] = {
        "ρ_sample": np.corrcoef(R_sims.reshape(-1, 2).T)[0, 1],
        "E[R_24m]": mean_return * 100,
        "σ[R_24m]": vol_return * 100,
        "Sharpe": sharpe,
        "CVaR_5%": cvar_95 * 100
    }

# Display
import pandas as pd
df = pd.DataFrame(results).T
print("\nDIVERSIFICATION BENEFIT QUANTIFICATION (50-50 Portfolio)")
print("="*70)
print(df.round(3))
print("\nKey insight:")
print(f"  Sharpe ratio degrades {(1 - results['High']['Sharpe']/results['Uncorrelated']['Sharpe'])*100:.1f}% from ρ=0 to ρ=0.7")
print(f"  CVaR worsens {(results['High']['CVaR_5%'] - results['Uncorrelated']['CVaR_5%']):.2f} pp")


# ============================================================================
# Generate Stochastic Inputs (Income + Returns)
# ============================================================================

# --- Simulation parameters ---
n_sims = 500
months = 32  # ~2.5 years
start_date = date(2025, 1, 1)

# --- Income model (from previous cells, assuming it's defined) ---
# Example:
# income = IncomeModel(
#     fixed=FixedIncome(base=1_400_000, annual_growth=0.03),
#     variable=VariableIncome(base=200_000, sigma=0.10)
# )

# --- Generate contributions: shape (n_sims, months) ---
A_sims = income.contributions(
    months=months, 
    start=start_date, 
    seed=42, 
    output="array", 
    n_sims=n_sims
)

# --- Generate returns: shape (n_sims, months, M=2) ---
R_sims = returns.generate(T=months, n_sims=n_sims, seed=42)

# --- Initialize portfolio executor ---
portfolio = Portfolio(accounts)

# --- Verification ---
print(f"✅ Stochastic Inputs Generated:")
print(f"   Contributions (A): {A_sims.shape}")
print(f"   Returns (R):       {R_sims.shape}")
print(f"   Accounts (M):      {portfolio.M}")
print(f"   Horizon (T):       {months} months")
print(f"   Simulations:       {n_sims}")


# ============================================================================
# Define Allocation Policy
# ============================================================================

# --- Static allocation: 60% Emergency, 40% Growth ---
X = np.tile([0.6, 0.4], (months, 1))  # shape (months, 2)

# --- Validate policy constraints ---
assert X.shape == (months, 2), f"X shape mismatch: {X.shape}"
assert np.allclose(X.sum(axis=1), 1.0), "X rows must sum to 1"
assert np.all(X >= 0), "X must be non-negative"

print(f"✅ Allocation Policy Validated:")
print(f"   Shape: {X.shape}")
print(f"   Emergency: {X[0, 0]:.0%}")
print(f"   Growth:    {X[0, 1]:.0%}")


# ============================================================================
# Execute Wealth Dynamics
# ============================================================================

# --- Simulate wealth evolution using AFFINE method (optimization-ready) ---
result = portfolio.simulate(
    A=A_sims, 
    R=R_sims, 
    X=X, 
    method="affine"  # Default: closed-form with analytical gradients
)

# --- Verify result structure ---
print(f"✅ Simulation Complete:")
print(f"   Wealth trajectories: {result['wealth'].shape}")        # (500, 33, 2)
print(f"   Total wealth:        {result['total_wealth'].shape}")  # (500, 33)
print(f"\n📊 Final Wealth Statistics (across simulations):")
final_wealth = result['total_wealth'][:, -1]
print(f"   Mean:   ${final_wealth.mean():,.0f}".replace(",", "."))
print(f"   Median: ${np.median(final_wealth):,.0f}".replace(",", "."))
print(f"   Std:    ${final_wealth.std():,.0f}".replace(",", "."))
print(f"   Min:    ${final_wealth.min():,.0f}".replace(",", "."))
print(f"   Max:    ${final_wealth.max():,.0f}".replace(",", "."))


# ============================================================================
# Visualize Portfolio Dynamics
# ============================================================================

fig, axes_dict = portfolio.plot(
    result=result,
    X=X,
    figsize=(16, 10),
    title="Portfolio Analysis: Emergency (60%) + Growth (40%)",
    show_trajectories=True,
    trajectory_alpha=0.05,
    colors={"Emergency": "green", "Growth": "blue"},
    hist_bins=40,
    hist_color='coral',
    save_path=False,
    return_fig_ax=True
)

# --- Optional: further customization ---
axes_dict['total'].set_ylabel("Total Wealth (CLP)")
fig.tight_layout()



