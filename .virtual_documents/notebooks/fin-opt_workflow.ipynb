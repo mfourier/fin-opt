





# --- Path setup: add project root so "src" is importable ---
import os
import sys

PROJECT_ROOT = os.path.abspath(os.path.join(os.getcwd(), ".."))
if PROJECT_ROOT not in sys.path:
    sys.path.insert(0, PROJECT_ROOT)

from datetime import date

import matplotlib.pyplot as plt

# --- Standard libs ---
import numpy as np
import pandas as pd

# --- FinOpt modules (desde /src) ---
from src.income import FixedIncome, IncomeModel, VariableIncome
from src.portfolio import Account, Portfolio
from src.returns import ReturnModel
from src.utils import monthly_to_annual
from src.model import FinancialModel, SimulationResult
from src.optimization import SAAOptimizer
from src.goals import IntermediateGoal, TerminalGoal





# --- Seasonality pattern for variable income (12 months, Jan–Dec) ---

# Structure: months = ["Jan", "Feb", "Mar", "Apr", "May", "Jun",
#                      "Jul", "Aug", "Sep", "Oct", "Nov", "Dec"]

seasonality_variable = [0.00, 0.00, 0.00, 1.22, 1.22, 1.16,
                        1.24, 1.10, 0.50, 0.90, 1.00, 1.31]

monthly_contrib_fixed = [0.20, 0.20, 0.20, 0.22, 0.25, 0.25,
                         0.23, 0.23, 0.20, 0.20, 0.20, 0.10]

monthly_contrib_variable = [1.0] * 12

monthly_contribution ={"fixed": monthly_contrib_fixed, "variable": monthly_contrib_variable}





# IncomeModel Instantiation
income = IncomeModel(
    fixed=FixedIncome(
        base=1_480_000.0,       # CLP/month
        annual_growth=0.03,     # 3% nominal annual growth
        salary_raises={
            date(2026, 4, 1): 400_000,  # +400k in April 2026
            date(2027, 4, 1): 400_000   # +400k in April 2027
        },
        name="fixed"
    ),
    variable=VariableIncome(
        base=140_000.0,         # Base variable income
        seasonality=seasonality_variable,
        sigma=0.10,             # 10% monthly noise
        floor=0.0,              # No negative income
        cap=400_000.0,          # Maximum 400k/month
        annual_growth=0.0,      # No growth in variable
        name="variable"
    ),
    monthly_contribution = monthly_contribution
)

# --- Account configuration ---
accounts = [
    Account.from_annual(
        name="Cuenta Ahorro Vivienda (BE)",
        annual_return=0.025,
        annual_volatility=0.01,
        initial_wealth=0
    ),
    Account.from_annual(
        name="Conservative Clooney (Fintual)",
        annual_return=0.08,
        annual_volatility=0.09,
        initial_wealth=0
    ),
    Account.from_annual(
        name="Moderate Pitt (Fintual)",
        annual_return=0.12,
        annual_volatility=0.13,
        initial_wealth=0
    )
]

# --- Correlation matrix (2x2) ---
# UF portfolio have moderate positive correlation (ρ = 0.2)
correlation_matrix = np.array([
    [1.0, 0.0, 0.0],
    [0.0, 1.0, 0.5],
    [0.0, 0.5, 1.0]
])

# --- Initialize FinancialModel ---
model = FinancialModel(income, accounts, default_correlation = correlation_matrix)
model





# --- Simulation parameters ---
n_sims = 500
months = 48  
start_date = date(2025, 10, 1)








# Income Projection Simulation
model.plot(mode='income', T=months, start=start_date)





# Contribution Projection Simulation
model.plot(mode='contributions', T=months, start=start_date)








model.plot(mode = 'returns', T = months, start=start_date)





model.plot(mode = 'returns_cumulative', T = months, start=start_date)


model.plot(mode = 'returns_cumulative', T = months, start=start_date, n_sims=1, title= r'Random Example of Cumulative Returns per Account $(\prod_{t=0}^{T-1}(1 + R_t^m) - 1)')





# --- Horizon analysis (average portfolio behavior) ---
mode = 'returns_horizon'
model.plot(mode = 'returns_horizon', show_table=False)





# Define Allocation Policy

# --- Static allocation: 60% Emergency, 40% Growth ---
X_static = np.tile([0.33, 0.33, 0.34], (months, 1))  # shape (months, 2)

# Project monthly Wealth
model.plot(mode = 'wealth', start=start_date, T=months, X=X_static)














# --- Analyze optimal solution ---

print("\n" + "="*70)
print("OPTIMAL ALLOCATION POLICY (X*)")
print("="*70)

# Extract optimal policy
X_opt = opt_result.X  # shape: (T*, M)
T_opt = opt_result.T

# Summary statistics
print(f"Horizon: T* = {T_opt} months ({T_opt/12:.1f} years)")
print(f"Objective Value: {opt_result.objective_value:,.0f} CLP")
print(f"Feasible: {opt_result.feasible}")
print(f"Solve Time: {opt_result.solve_time:.2f} seconds")
print(f"Iterations: {opt_result.n_iterations}")
print(f"\nConvergence Status: {opt_result.diagnostics['convergence_status']}")

# Allocation statistics over time
print("\n" + "-"*70)
print("ALLOCATION STATISTICS")
print("-"*70)
for m, acc_name in enumerate([acc.name for acc in accounts]):
    mean_alloc = X_opt[:, m].mean()
    std_alloc = X_opt[:, m].std()
    min_alloc = X_opt[:, m].min()
    max_alloc = X_opt[:, m].max()
    print(f"{acc_name:15s}: μ={mean_alloc:.2%}  σ={std_alloc:.4f}  "
          f"[{min_alloc:.2%}, {max_alloc:.2%}]")

# Check if policy is time-varying
is_static = np.allclose(X_opt, X_opt[0], atol=1e-4)
print(f"\nPolicy Type: {'Static' if is_static else 'Time-varying'}")









