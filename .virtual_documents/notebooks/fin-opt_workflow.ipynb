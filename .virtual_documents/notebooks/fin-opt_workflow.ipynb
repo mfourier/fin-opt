





# --- Path setup: add project root so "src" is importable ---
import os
import sys

PROJECT_ROOT = os.path.abspath(os.path.join(os.getcwd(), ".."))
if PROJECT_ROOT not in sys.path:
    sys.path.insert(0, PROJECT_ROOT)

from datetime import date

import matplotlib.pyplot as plt

# --- Standard libs ---
import numpy as np
import pandas as pd

# --- FinOpt modules (desde /src) ---
from src.income import FixedIncome, IncomeModel, VariableIncome
from src.portfolio import Account, Portfolio
from src.returns import ReturnModel
from src.utils import monthly_to_annual
from src.model import FinancialModel, SimulationResult





# --- Seasonality pattern for variable income (12 months, Jan–Dec) ---

# Structure: months = ["Jan", "Feb", "Mar", "Apr", "May", "Jun",
#                      "Jul", "Aug", "Sep", "Oct", "Nov", "Dec"]

seasonality_variable = [0.00, 0.00, 0.00, 1.32, 1.32, 1.36,
                        1.24, 1.10, 0.50, 0.90, 1.00, 1.31]

monthly_contrib_fixed = [0.20, 0.20, 0.20, 0.22, 0.25, 0.25,
                         0.23, 0.23, 0.20, 0.20, 0.20, 0.10]

monthly_contrib_variable = [1.0] * 12





# IncomeModel Instantiation
income = IncomeModel(
    fixed=FixedIncome(
        base=1_480_000.0,       # CLP/month
        annual_growth=0.03,     # 3% nominal annual growth
        salary_raises={
            date(2026, 4, 1): 400_000,  # +400k in April 2026
            date(2027, 4, 1): 400_000   # +400k in April 2027
        },
        name="fixed"
    ),
    variable=VariableIncome(
        base=150_000.0,         # Base variable income
        seasonality=seasonality_variable,
        sigma=0.10,             # 10% monthly noise
        floor=0.0,              # No negative income
        cap=400_000.0,          # Maximum 400k/month
        annual_growth=0.0,      # No growth in variable
        name="variable"
    ),
)

# --- Define contribution strategy ---
income.monthly_contribution = {
    "fixed": monthly_contrib_fixed,  # Custom monthly fractions
    "variable": monthly_contrib_variable,          # 100% of variable income
}

# --- Account configuration: Conservative vs Aggressive ---
accounts = [
    Account.from_annual(
        name="Emergency",
        annual_return=0.04,        # 4% annual (conservative)
        annual_volatility=0.03,    # 2% volatility
        initial_wealth=0
    ),
    Account.from_annual(
        name="Growth",
        annual_return=0.12,        # 14% annual (aggressive)
        annual_volatility=0.14,    # 15% volatility
        initial_wealth=0
    )
]

# --- Correlation matrix (2x2) ---
# Emergency and Growth have moderate positive correlation (ρ = 0.3)
correlation_matrix = np.array([
    [1.0, 0.2],
    [0.2, 1.0]
])

# --- Initialize FinancialModel ---
model = FinancialModel(income, accounts, default_correlation = correlation_matrix)
model





# --- Simulation parameters ---
n_sims = 500
months = 48  
start_date = date(2025, 10, 1)








# Income Projection Simulation
model.plot(mode='income', T=months, start=start_date)





# Contribution Projection Simulation
model.plot(mode='contributions', T=months, start=start_date)








model.plot(mode = 'returns', T = months, start=start_date)





model.plot(mode = 'returns_cumulative', T = months, start=start_date)





# --- Horizon analysis (average portfolio behavior) ---
mode = 'returns_horizon'
model.plot(mode = 'returns_horizon')





# Define Allocation Policy

# --- Static allocation: 60% Emergency, 40% Growth ---
X_static = np.tile([0.6, 0.4], (months, 1))  # shape (months, 2)

# Project monthly Wealth
model.plot(mode = 'wealth', start=start_date, T=months, X=X_static)



