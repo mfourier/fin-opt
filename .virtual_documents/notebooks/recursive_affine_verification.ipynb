





import os
import sys
PROJECT_ROOT = os.path.abspath(os.path.join(os.getcwd(), ".."))
if PROJECT_ROOT not in sys.path:
    sys.path.insert(0, PROJECT_ROOT)

from datetime import date
import numpy as np
import pandas as pd
import matplotlib.pyplot as plt

from src.income import FixedIncome, VariableIncome, IncomeModel
from src.portfolio import Account, Portfolio
from src.returns import ReturnModel

print("FinOpt modules imported successfully ✓")





# --- Simulation parameters ---
months = 24
M = 5  # Number of accounts
seed = 42
start_date = date(2025, 9, 1)

print(f"Configuration:")
print(f"  Horizon: {months} months")
print(f"  Accounts: {M}")
print(f"  Seed: {seed}")





# Realistic income with stochasticity to test robustness.
income = IncomeModel(
    fixed=FixedIncome(
        base=1_000_000.0,
        annual_growth=0.03,
        name="salary"
    ),
    variable=VariableIncome(
        base=200_000.0,
        sigma=0.15,  # 15% noise for realism
        seed=seed,
        name="bonus"
    ),
)

# Generate contributions (deterministic seed for reproducibility)
A = income.contributions(months=months, start=start_date, seed=seed, output="array")

print(f"\nContributions generated:")
print(f"  Shape: {A.shape}")
print(f"  Mean: ${A.mean():,.0f}".replace(",", "."))
print(f"  Std: ${A.std():,.0f}".replace(",", "."))





# Multiple accounts with **near-deterministic returns** for numerical precision.

accounts = [
    Account.from_annual(
        name=f"Account_{i+1}",
        annual_return=0.05 + i * 0.02,  # Varying returns: 5%, 7%, 9%
        annual_volatility=1e-6,          # Near-zero volatility (deterministic)
        initial_wealth=100_000.0 * (i + 1)  # Varying initial wealth
    )
    for i in range(M)
]

portfolio = Portfolio(accounts)
returns_model = ReturnModel(accounts, default_correlation=np.eye(M))

# Display account parameters
print("\nAccount Configuration:")
for i, acc in enumerate(accounts):
    mu = acc.return_strategy["mu"] * 12 * 100  # Annualized %
    print(f"  {acc.name}: W_0 = ${acc.initial_wealth:,.0f}, μ_annual = {mu:.1f}%".replace(",", "."))





# Single simulation with controlled seed for exact reproducibility.

R = returns_model.generate(T=months, n_sims=1, seed=seed)  # (1, months, M)

print(f"\nReturns generated:")
print(f"  Shape: {R.shape}")
print(f"  Mean per account: {(R[0, :, :].mean(axis=0) * 100)}")
print(f"  Std per account: {(R[0, :, :].std(axis=0) * 100)}")





# Random policy $X \in \mathcal{X}_T$ satisfying simplex constraints:
# $$\sum_{m=1}^M x_t^m = 1, \quad x_t^m \geq 0, \quad \forall t$$

# %% [code]
rng = np.random.default_rng(seed)
X = rng.uniform(0, 1, size=(months, M))
X /= X.sum(axis=1, keepdims=True)  # Normalize: rows sum to 1

# Verify constraints
print(f"\nAllocation Policy:")
print(f"  Shape: {X.shape}")
print(f"  Row sums (should be 1.0): {X.sum(axis=1)[:5]}")
print(f"  Non-negativity: {np.all(X >= 0)}")
print(f"\nSample allocations (first 3 months):")
print(pd.DataFrame(X[:3], columns=[acc.name for acc in accounts]))





# **Critical Test:** Both methods must produce identical results within numerical precision.

# --- Recursive method ---
result_recursive = portfolio.simulate(A=A, R=R, X=X, method="recursive")
W_recursive = result_recursive["wealth"]  # (1, months+1, M)

# --- Affine method ---
result_affine = portfolio.simulate(A=A, R=R, X=X, method="affine")
W_affine = result_affine["wealth"]        # (1, months+1, M)

# Extract single simulation (shape: months+1, M)
W_rec = W_recursive[0, :, :]
W_aff = W_affine[0, :, :]

print("Wealth computation completed ✓")
print(f"  Recursive shape: {W_rec.shape}")
print(f"  Affine shape: {W_aff.shape}")





# --- Compute differences ---
diff = W_rec - W_aff
max_abs_diff = np.abs(diff).max()
max_rel_diff = np.abs(diff / (W_rec + 1e-12)).max()

print("\n" + "="*70)
print("VALIDATION RESULTS")
print("="*70)
print(f"Max absolute difference: {max_abs_diff:.2e}")
print(f"Max relative difference: {max_rel_diff:.2e}")

# Tolerance check
rtol, atol = 1e-9, 1e-10
if np.allclose(W_rec, W_aff, rtol=rtol, atol=atol):
    print(f"✓ Methods agree within tolerance (rtol={rtol}, atol={atol})")
else:
    print(f"✗ WARNING: Methods differ beyond tolerance")
    
    # Identify worst mismatch
    worst_idx = np.unravel_index(np.argmax(np.abs(diff)), diff.shape)
    t_worst, m_worst = worst_idx
    print(f"\n  Worst mismatch at t={t_worst}, account={accounts[m_worst].name}:")
    print(f"    Recursive: ${W_rec[worst_idx]:,.2f}".replace(",", "."))
    print(f"    Affine:    ${W_aff[worst_idx]:,.2f}".replace(",", "."))
    print(f"    Diff:      ${diff[worst_idx]:,.2f}".replace(",", "."))

print("="*70)





# Even when methods agree, visualization helps understand numerical behavior.

# %% [code]
fig, axes = plt.subplots(2, 1, figsize=(14, 8))

# Panel 1: Wealth trajectories
for m in range(M):
    axes[0].plot(W_rec[:, m], label=f'{accounts[m].name} (Recursive)', 
                 linestyle='-', linewidth=2)
    axes[0].plot(W_aff[:, m], label=f'{accounts[m].name} (Affine)', 
                 linestyle='--', linewidth=1.5, alpha=0.7)

axes[0].set_xlabel('Month')
axes[0].set_ylabel('Wealth (CLP)')
axes[0].set_title('Wealth Trajectories: Recursive vs Affine')
axes[0].legend(loc='best', fontsize=8)
axes[0].grid(True, alpha=0.3)

# Panel 2: Absolute differences (log scale)
for m in range(M):
    abs_diff_account = np.abs(W_rec[:, m] - W_aff[:, m])
    axes[1].semilogy(abs_diff_account, label=accounts[m].name, 
                     marker='o', markersize=4)

axes[1].axhline(y=atol, color='red', linestyle='--', 
                label=f'Tolerance (atol={atol})')
axes[1].set_xlabel('Month')
axes[1].set_ylabel('Absolute Difference (log scale)')
axes[1].set_title('Numerical Precision: |W_recursive - W_affine|')
axes[1].legend(loc='best', fontsize=8)
axes[1].grid(True, alpha=0.3, which='both')

plt.tight_layout()
plt.show()





n_sims = 100
print(f"\nExtended test with {n_sims} simulations...")

# Generate stochastic returns
R_multi = returns_model.generate(T=months, n_sims=n_sims, seed=seed)  # (n_sims, months, M)

# Use stochastic contributions
A_multi = income.contributions(months=months, start=start_date, 
                                n_sims=n_sims, seed=seed, output="array")

# Simulate both methods
result_rec_multi = portfolio.simulate(A=A_multi, R=R_multi, X=X, method="recursive")
result_aff_multi = portfolio.simulate(A=A_multi, R=R_multi, X=X, method="affine")

# Extract wealth
W_rec_multi = result_rec_multi["wealth"]  # (n_sims, months+1, M)
W_aff_multi = result_aff_multi["wealth"]

# Compute statistics
diff_multi = W_rec_multi - W_aff_multi
max_abs_diff_multi = np.abs(diff_multi).max()
mean_abs_diff_multi = np.abs(diff_multi).mean()

print(f"\nMulti-simulation validation:")
print(f"  Number of simulations: {n_sims}")
print(f"  Max absolute difference: {max_abs_diff_multi:.2e}")
print(f"  Mean absolute difference: {mean_abs_diff_multi:.2e}")
print(f"  Agreement: {'✓' if np.allclose(W_rec_multi, W_aff_multi, rtol=rtol, atol=atol) else '✗'}")





# Compare final wealth distributions
final_rec = W_rec_multi[:, -1, :].mean(axis=0)  # Mean final wealth per account
final_aff = W_aff_multi[:, -1, :].mean(axis=0)

print("\n" + "="*70)
print("FINAL WEALTH COMPARISON (Mean across simulations)")
print("="*70)
for m in range(M):
    print(f"{accounts[m].name}:")
    print(f"  Recursive: ${final_rec[m]:,.0f}".replace(",", "."))
    print(f"  Affine:    ${final_aff[m]:,.0f}".replace(",", "."))
    print(f"  Diff:      ${abs(final_rec[m] - final_aff[m]):,.2f}".replace(",", "."))
print("="*70)






