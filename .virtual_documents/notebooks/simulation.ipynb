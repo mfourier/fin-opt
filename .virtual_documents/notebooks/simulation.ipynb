





# --- Path setup: add project root so "src" is importable ---
import os, sys
PROJECT_ROOT = os.path.abspath(os.path.join(os.getcwd(), ".."))
if PROJECT_ROOT not in sys.path:
    sys.path.insert(0, PROJECT_ROOT)

# --- Standard libs ---
import numpy as np
import pandas as pd
import matplotlib.pyplot as plt
from datetime import date

# --- FinOpt modules (desde /src) ---
from src.income import FixedIncome, VariableIncome, IncomeModel
from src.investment import (
    simulate_capital, simulate_portfolio
)
from src.scenario import ScenarioConfig, SimulationEngine, plot_scenario, plot_scenarios
from src.goals import Goal, evaluate_goals
from src.utils import summary_metrics






seasonality_norm = [
    0.00,  # Jan
    0.00,  # Feb
    0.00,  # Mar
    1.32,  # Apr
    1.48,  # May
    1.36,  # Jun
    1.24,  # Jul
    1.18,  # Aug
    0.87,  # Sep (reducido)
    1.16,  # Oct
    1.28,  # Nov
    1.31,  # Dec
]

income = IncomeModel(
    fixed=FixedIncome(base=1_400_000.0, annual_growth=0.10),
    variable=VariableIncome(
        base=150_000.0,
        seasonality=seasonality_norm,
        sigma=0.10,         # 10% de ruido mensual
        floor=50_000.0,     # piso mínimo
        cap=400_000.0,      # techo máximo
        annual_growth=0.02,
        seed=42
    ),
)

months = 24
start = date(2025, 9, 1)

# Proportional contribution rule: 35% of fixed + 100% of variable
alpha, beta = 0.35, 1.0
contributions = income.contributions(months=months, alpha_fixed=alpha, beta_variable=beta, start=start)
contributions.head()


income.plot(months=24, start=date(2025, 1, 1), kind="lines", dual_axis=True,
            title="Income projection")


# Summary for 24 months
summary_24m = income.summary(months=24, start=date(2025, 9, 1))
print("=== Summary (24 months) ===")
print(summary_24m)





# Configuración de escenario (24 meses)
cfg = ScenarioConfig(
    months=24,
    start=date(2025, 9, 1),
    alpha_fixed=0.35,
    beta_variable=1.0,
    base_r=0.004,        # 0.4% mensual
    optimistic_r=0.007,
    pessimistic_r=0.001,
)

sim = SimulationEngine(income, cfg)

results = sim.run_three_cases()

# Mostrar métricas comparativas
summary_metrics(results)



from src.scenario import ScenarioConfig, SimulationEngine
from src.utils import fixed_rate_path

cfg = ScenarioConfig(months=24, start=date(2025, 9, 1), alpha_fixed=0.35, beta_variable=1.0)
eng = SimulationEngine(income, cfg, accounts=["housing", "emergency", "free"])

# Ejemplo C(t,k): glidepath lineal
idx = eng._index()
T = len(idx)
w0 = [0.70, 0.20, 0.10]
wT = [0.40, 0.30, 0.30]
glide = np.linspace(0.0, 1.0, T)[:, None]
C = (1 - glide) * np.array(w0) + glide * np.array(wT)

# Retornos por cuenta
r_housing   = fixed_rate_path(T, 0.003)
r_emergency = fixed_rate_path(T, 0.001)
r_free      = fixed_rate_path(T, 0.006)
R = np.column_stack([r_housing, r_emergency, r_free])

res = eng.run_case_named(
    "glide",
    C_matrix=C,                 # (T,K)
    returns_by_account=R,       # (T,K)
)

res.wealth_by_account.tail()
plot_scenario(res)


res_base = eng.run_case_named("base", C_matrix=C, returns_by_account=0.004)
res_opt  = eng.run_case_named("optimistic", C_matrix=C, returns_by_account=0.007)
res_pes  = eng.run_case_named("pessimistic", C_matrix=C, returns_by_account=0.001)

from src.scenario import plot_scenarios
plot_scenarios({"base": res_base, "optimistic": res_opt, "pessimistic": res_pes});







