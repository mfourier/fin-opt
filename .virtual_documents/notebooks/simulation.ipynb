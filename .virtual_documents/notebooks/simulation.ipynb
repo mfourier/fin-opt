





# --- Path setup: add project root so "src" is importable ---
import os, sys
PROJECT_ROOT = os.path.abspath(os.path.join(os.getcwd(), ".."))
if PROJECT_ROOT not in sys.path:
    sys.path.insert(0, PROJECT_ROOT)

# (opcional pero útil para notebooks)
get_ipython().run_line_magic("load_ext", " autoreload")
get_ipython().run_line_magic("autoreload", " 2")

# --- Standard libs ---
import numpy as np
import pandas as pd
import matplotlib.pyplot as plt
from datetime import date

# --- FinOpt modules (desde /src) ---
from src.income import FixedIncome, VariableIncome, IncomeModel
from src.investment import (
    simulate_capital, simulate_portfolio, fixed_rate_path,
    lognormal_iid, compute_metrics
)
from src.simulation import ScenarioConfig, SimulationEngine
from src.optimization import (
    MinContributionInput, min_constant_contribution,
    MinTimeInput, min_time_given_contribution,
    ChanceConstraintsInput, chance_constraints
)
from src.goals import Goal, evaluate_goals
from src.utils import summary_metrics







income = IncomeModel(
    fixed=FixedIncome(base=1_400_000.0, annual_growth=0.00),
    variable=VariableIncome(base=200_000.0, sigma=0.00)  # deterministic MVP
)
months = 24
start = date(2025, 9, 1)

# Proportional contribution rule: 35% of fixed + 100% of variable
alpha, beta = 0.35, 1.0
contrib = income.contributions_from_proportions(months=months, alpha_fixed=alpha, beta_variable=beta, start=start)
contrib.head()






cfg = ScenarioConfig(
    months=months, start=start, alpha_fixed=alpha, beta_variable=beta,
    base_r=0.004, optimistic_r=0.007, pessimistic_r=0.001
)
eng = SimulationEngine(income, cfg)
res3 = eng.run_three_cases()

# Metrics table
df_metrics = summary_metrics(res3)
df_metrics



plt.figure(figsize=(8,4.5))
for name, res in res3.items():
    res.wealth.plot(label=name)
plt.title("Wealth paths — three deterministic cases")
plt.xlabel("Month")
plt.ylabel("Wealth (CLP)")
plt.legend()
plt.tight_layout()
plt.show()







T = 24
r = fixed_rate_path(T, 0.004)  # 0.4% monthly
B = 20_000_000.0               # target amount
W0 = 0.0                       # start wealth

mc_inp = MinContributionInput(target_amount=B, start_wealth=W0, returns_path=r)
mc_res = min_constant_contribution(mc_inp)
mc_res




# Verify by direct simulation
a_star = mc_res.a_star
wealth_check = simulate_capital(np.full(T, a_star), r, start_value=W0, index_like=contrib.index[:T])
float(wealth_check.iloc[-1]), B







a_fixed = float(contrib.iloc[0])  # use first-month contribution as a working monthly amount
r_long = fixed_rate_path(60, 0.004)  # allow up to 60 months
mt_inp = MinTimeInput(contribution=a_fixed, start_wealth=0.0, returns_path=r_long, success_threshold=6_000_000.0)
mt_res = min_time_given_contribution(mt_inp)
mt_res.T_hat




# Plot the found wealth path
plt.figure(figsize=(8,4.5))
mt_res.wealth_path.plot()
plt.title(f"Minimum time path (a = {a_fixed:,.0f} CLP) — T_hat={mt_res.T_hat} months")
plt.xlabel("Month")
plt.ylabel("Wealth (CLP)")
plt.tight_layout()
plt.show()







goals = [
    Goal(name="housing", target_amount=20_000_000.0, target_month_index=23),
    Goal(name="emergency", target_amount=6_000_000.0, target_month_index=11),
]
cfg_mc = ScenarioConfig(
    months=months, start=start, alpha_fixed=alpha, beta_variable=beta,
    base_r=0.004, optimistic_r=0.007, pessimistic_r=0.001,
    mc_mu=0.004, mc_sigma=0.02, mc_paths=200, seed=42
)
cc_inp = ChanceConstraintsInput(goals=goals, income_model=income, scen_cfg=cfg_mc, mc_paths=200)
cc_res = chance_constraints(cc_inp)
cc_res.success_prob_by_goal, cc_res.summary







# Two synthetic assets for illustration
rng = np.random.default_rng(123)
T, N = months, 2
R = np.column_stack([
    rng.normal(0.006, 0.020, size=T),
    rng.normal(0.003, 0.010, size=T),
])
w = np.array([0.6, 0.4])
wealth_multi = simulate_portfolio(contrib.values, R, w, rebalance=True, index_like=contrib.index)

# Compare single-asset base case vs this 60/40 toy example
plt.figure(figsize=(8,4.5))
res3["base"].wealth.plot(label="single-asset base")
wealth_multi.plot(label="60/40 synthetic")
plt.title("Wealth comparison — single asset vs 60/40 (toy)")
plt.xlabel("Month")
plt.ylabel("Wealth (CLP)")
plt.legend()
plt.tight_layout()
plt.show()




