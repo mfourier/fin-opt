





# --- Path setup: add project root so "src" is importable ---
import os
import sys

PROJECT_ROOT = os.path.abspath(os.path.join(os.getcwd(), ".."))
if PROJECT_ROOT not in sys.path:
    sys.path.insert(0, PROJECT_ROOT)

from datetime import date

import matplotlib.pyplot as plt

# --- Standard libs ---
import numpy as np
import pandas as pd

from src.goals import Goal, evaluate_goals

# --- FinOpt modules (desde /src) ---
from src.income import FixedIncome, IncomeModel, VariableIncome
from src.investment import simulate_capital, simulate_portfolio
from src.scenario import ScenarioConfig, SimulationEngine, plot_scenario, plot_scenarios
from src.utils import summary_metrics





seasonality_norm = [
    0.00,  # Jan
    0.00,  # Feb
    0.00,  # Mar
    1.32,  # Apr
    1.48,  # May
    1.36,  # Jun
    1.24,  # Jul
    1.18,  # Aug
    0.87,  # Sep (reducido)
    1.16,  # Oct
    1.28,  # Nov
    1.31,  # Dec
]

income = IncomeModel(
    fixed=FixedIncome(base=1_400_000.0, annual_growth=0.10),
    variable=VariableIncome(
        base=150_000.0,
        seasonality=seasonality_norm,
        sigma=0.10,  # 10% de ruido mensual
        floor=50_000.0,  # piso mínimo
        cap=400_000.0,  # techo máximo
        annual_growth=0.02,
        seed=42,
    ),
)

months = 24
start = date(2025, 9, 1)

# Proportional contribution rule: 35% of fixed + 100% of variable
alpha, beta = 0.35, 1.0
contributions = income.contributions(
    months=months, alpha_fixed=alpha, beta_variable=beta, start=start
)
contributions.head()


income.plot(
    months=24,
    start=date(2025, 1, 1),
    kind="lines",
    dual_axis=True,
    title="Income projection",
)


# Summary for 24 months
summary_24m = income.summary(months=24, start=date(2025, 9, 1))
print("=== Summary (24 months) ===")
print(summary_24m)





# Configuración de escenario (24 meses)
cfg = ScenarioConfig(
    months=24,
    start=date(2025, 9, 1),
    alpha_fixed=0.35,
    beta_variable=1.0,
    base_r=0.004,  # 0.4% mensual
    optimistic_r=0.007,
    pessimistic_r=0.001,
)

sim = SimulationEngine(income, cfg)

results = sim.run_three_cases()

# Mostrar métricas comparativas
summary_metrics(results)


from src.scenario import ScenarioConfig, SimulationEngine
from src.utils import fixed_rate_path

cfg = ScenarioConfig(
    months=24, start=date(2025, 9, 1), alpha_fixed=0.35, beta_variable=1.0
)
eng = SimulationEngine(income, cfg, accounts=["housing", "emergency", "free"])

# Ejemplo C(t,k): glidepath lineal
idx = eng._index()
T = len(idx)
w0 = [0.70, 0.20, 0.10]
wT = [0.40, 0.30, 0.30]
glide = np.linspace(0.0, 1.0, T)[:, None]
C = (1 - glide) * np.array(w0) + glide * np.array(wT)

# Retornos por cuenta
r_housing = fixed_rate_path(T, 0.003)
r_emergency = fixed_rate_path(T, 0.001)
r_free = fixed_rate_path(T, 0.006)
R = np.column_stack([r_housing, r_emergency, r_free])

res = eng.run_case_named(
    "glide",
    C_matrix=C,  # (T,K)
    returns_by_account=R,  # (T,K)
)

res.wealth_by_account.tail()
plot_scenario(res)


res_base = eng.run_case_named("base", C_matrix=C, returns_by_account=0.004)
res_opt = eng.run_case_named("optimistic", C_matrix=C, returns_by_account=0.007)
res_pes = eng.run_case_named("pessimistic", C_matrix=C, returns_by_account=0.001)

from src.scenario import plot_scenarios

plot_scenarios({"base": res_base, "optimistic": res_opt, "pessimistic": res_pes});





from datetime import date
from src.optimization import MinTimeAllocationInput, min_time_with_allocation

# Cuentas y metas
accounts = ["housing", "emergency"]
targets = {"housing": 25_000_000.0, "emergency": 6_000_000.0}

# Input del optimizador (sin months)
inp = MinTimeAllocationInput(
    accounts=accounts,
    targets_by_account=targets,
    start_wealth_by_account=0.0,
    income_model=income,             # ← 
    start=date(2025, 9, 1),          # ← índice mensual base
    alpha_fixed=0.35,
    beta_variable=1.0,
    returns_by_account={"housing": 0.003, "emergency": 0.006},
    T_max=120,
    t_min="auto",
    backend="scipy",                 # o "greedy"
)

res = min_time_with_allocation(inp)
print("Feasible:", res.feasible)
print("T*:", res.T_star)
display(res.C_star.head())
display(res.A_df.head())
display(res.wealth_by_account.head())


res.wealth_by_account


import numpy as np
import pandas as pd
import matplotlib.pyplot as plt
import matplotlib.ticker as mticker

# Asume que ya corriste:
# res = min_time_with_allocation(inp)

A_df = res.A_df.copy()                 # pesos asignados por cuenta (T×K)
C_df = res.C_star.copy()               # matriz de porcentajes (T×K)
W_df = res.wealth_by_account.copy()    # riqueza por cuenta (+ "total")
a = res.contributions_total.copy()     # contribuciones totales a_t (T,)

accounts = list(C_df.columns)
idx = A_df.index

print("T* =", res.T_star, "| feasible:", res.feasible)
display(C_df.head())
display(A_df.head())
display(W_df.head())



# Formato CLP en millones
millions_fmt = mticker.FuncFormatter(lambda x, _: f"{x/1_000_000:.1f}M")

fig, ax = plt.subplots(figsize=(10, 5))
for acc in accounts:
    W_df[acc].plot(ax=ax, lw=1.8, label=f"Wealth: {acc}")
if "total" in W_df.columns:
    W_df["total"].plot(ax=ax, lw=2.6, linestyle="--", label="Wealth: total")

ax.set_title(f"Wealth trajectories — min-time solution (T*={res.T_star})")
ax.set_ylabel("Wealth (Million CLP)")
ax.yaxis.set_major_formatter(millions_fmt)
ax.grid(True, linestyle="--", alpha=0.4)
ax.legend(ncols=2)
plt.xticks(rotation=45, ha="right")
plt.tight_layout()
plt.show()



fig, ax = plt.subplots(figsize=(10, 5))

# Barras: contribución total a_t
ax.bar(a.index, a.values, alpha=0.25, label="Total monthly contribution a_t")

# Líneas: por cuenta
for acc in accounts:
    A_df[acc].plot(ax=ax, lw=1.6, label=f"Contribution: {acc}")

ax.set_title("Monthly contributions — optimal allocation")
ax.set_ylabel("CLP")
ax.grid(True, linestyle="--", alpha=0.35)
ax.legend(ncols=2)
plt.xticks(rotation=45, ha="right")
plt.tight_layout()
plt.show()



fig, ax = plt.subplots(figsize=(9, 4.5))
im = ax.imshow(C_df.values, aspect="auto", origin="upper")
ax.set_title("Allocation matrix C[t,k] (row-stochastic)")
ax.set_xlabel("Accounts")
ax.set_ylabel("Time (months)")

ax.set_xticks(range(len(accounts)))
ax.set_xticklabels(accounts, rotation=0)
# ticks de tiempo cada ~max(T/10,1) pasos
T = len(C_df)
step = max(T // 10, 1)
ax.set_yticks(range(0, T, step))
ax.set_yticklabels([idx[i].strftime("%Y-%m") for i in range(0, T, step)])

cbar = plt.colorbar(im, ax=ax)
cbar.set_label("Share of a_t allocated to k")

plt.tight_layout()
plt.show()



eps = 1e-6

# (i) Sumas por fila: x_{t,k} deben sumar a a_t
row_diff = (A_df.sum(axis=1) - a).abs().max()
print(f"Max row-sum |A_df.sum - a|: {row_diff:.6f}  (OK ≤ {1e-6})")

# (ii) Sumas por fila en C: deben sumar ≈ 1 cuando a_t > 0
mask_pos = a > 0
row_diff_C = (C_df[mask_pos].sum(axis=1) - 1.0).abs().max() if mask_pos.any() else 0.0
print(f"Max row-sum |C_df.sum - 1| (where a_t>0): {row_diff_C:.6f}")

# (iii) Verificación de metas alcanzadas en T* (si es factible)
if res.feasible:
    print("\nTargets vs final wealth:")
    for acc in accounts:
        target = float(inp.targets_by_account[acc])
        final_w = float(W_df[acc].iloc[-1])
        margin = final_w - target
        print(f"  - {acc:>12s}: W_T={final_w:,.0f}  target={target:,.0f}  margin={margin:,.0f}")
else:
    print("\nNo feasible solution within T_max; showing last greedy allocation diagnostics:")
    for acc in accounts:
        target = float(inp.targets_by_account[acc])
        final_w = float(W_df[acc].iloc[-1])
        shortfall = target - final_w
        print(f"  - {acc:>12s}: W_T={final_w:,.0f}  target={target:,.0f}  shortfall={shortfall:,.0f}")

# (iv) t_hit por cuenta (primer mes que alcanza la meta)
print("\nFirst hit month index per account (−1 si no alcanza):")
display(res.t_hit_by_account)







